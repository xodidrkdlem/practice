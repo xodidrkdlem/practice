{
  "nbformat": 4,
  "nbformat_minor": 0,
  "metadata": {
    "colab": {
      "provenance": [],
      "collapsed_sections": [],
      "mount_file_id": "10cjwhGl6eEKBNJrmkX_2cGdXOq2koewC",
      "authorship_tag": "ABX9TyOPP7bKf7cbIzMI9O0eZQX0",
      "include_colab_link": true
    },
    "kernelspec": {
      "name": "python3",
      "display_name": "Python 3"
    },
    "language_info": {
      "name": "python"
    }
  },
  "cells": [
    {
      "cell_type": "markdown",
      "metadata": {
        "id": "view-in-github",
        "colab_type": "text"
      },
      "source": [
        "<a href=\"https://colab.research.google.com/github/xodidrkdlem/practice/blob/main/1015classpy.ipynb\" target=\"_parent\"><img src=\"https://colab.research.google.com/assets/colab-badge.svg\" alt=\"Open In Colab\"/></a>"
      ]
    },
    {
      "cell_type": "code",
      "execution_count": null,
      "metadata": {
        "id": "-nZoCQ1KS8DZ"
      },
      "outputs": [],
      "source": [
        "#파일 읽고 쓰기\n",
        "                               # f = 객체, open(결과값으로 파일 객체를 돌려주는 내장함수)\n",
        "f = open(\"새파일.txt\",'r')     # 'r' = 읽기 전용 모드\n",
        "f.close()                      \n",
        "                               \n",
        "\n",
        "f = open(\"새파일.txt\",'w')     #'w' = 쓰기 전용 모드\n",
        "f.close()                      # f.close() == 모드를 켰으면 꺼야하니깐.\n",
        "f = open(\"새파일.txt\",'a')     #'a' = (마지막에 추가로 쓰는 모드) \n",
        "f.close()                       \n",
        "\n",
        "#파일을 쓰기 모드로 출력값 적기\n",
        "\n",
        "f = open(\"C:/doit/새파일.txt\", 'w')    #C:/doit 안에 새파일.txt를 쓰기 모드로 만듬. w를 처음으로 쓸 경우 파일 생성.\n",
        "for i in range(1,11):                  #1부터 10까지i에 순차적으로 들어간다.\n",
        "    data = (\"%d번째 줄입니다.\\n\" %i)   #data라는 변수 안에 1,2,3,4... 째 줄입니다. 줄바꿈으로 입력\n",
        "    f.write(data)                      #f.write은 \"새파일.txt\"라는 파일에 for문이입력되게끔. print(data)는 모니터에 출력 \n",
        "f.close()                              #파일 닫기(error 막기)\n"
      ]
    },
    {
      "cell_type": "code",
      "source": [
        "#클래스<class>\n",
        "\n",
        "#사칙연산 클래스 만드는 방법\n",
        "class Taeyang:                            #class,클래스 이름:\n",
        "    def __init__(self,first,second):      #__init__ 이라는 생성자(constructor) \n",
        "      self.first = first                     \n",
        "      self.second = second\n",
        "\n",
        "    def add(self):                        #매개변수 self  \n",
        "      result = self.first + self.second   #더하기\n",
        "      return result                       #결과값 return\n",
        "    \n",
        "    def sub(self):                        #매개변수 self        \n",
        "      result = self.first - self.second   #빼기    \n",
        "      return result                       #결과값 return\n",
        "    \n",
        "    def mul(self):                        #매개변수 self   \n",
        "      result = self.first * self.second   #곱하기 함수\n",
        "      return result                       #결과값 return\n",
        "    \n",
        "    def div(self):\n",
        "      result = self.first / self.second\n",
        "      return result\n",
        "\n",
        "a = Taeyang(4,2)                          # a라는 객체가 Taeyang이라는 클래스 사용(first,second)\n",
        "                                          #self는 어디?? a== self\n",
        "print(a.add())                            #a.add/// a라는 객체가 Taeyang이라는 클래스 안의 add함수 사용.\n",
        "\n",
        "#b = Taeyang(4,0)                          #ZeroDivisionError: division by zero 0으로는 나눌 수 없다.\n",
        "#print(b.div())                            #문제 해결 방법. 클래스 안의 div에 if문을 줘서 수정을 하거나,\n",
        "                                          #Taeyang 클래스를 상속받는 클래스 만들기.\n",
        "\n",
        "#------------------------\n",
        "\n",
        "#상속받는 클래스 만들기\n",
        "#조건 거듭제곱 가능한 연산 함수 추가\n",
        "#조건2 나누는 수가 0일 경우, error가 아닌 숫자 0을 반환 할수 있게 만들기.\n",
        "\n",
        "class Taeyang2(Taeyang):\n",
        "    def __init__(self,first,second):\n",
        "      self.first = first\n",
        "      self.second = second\n",
        "\n",
        "    def pow(self):\n",
        "      result = self.first ** self.second\n",
        "      return result\n",
        "\n",
        "    def div(self):\n",
        "      if self.second == 0:\n",
        "        return 0\n",
        "      else:\n",
        "        result = self.first/self.second\n",
        "        return result\n",
        "\n",
        "b = Taeyang2(4,0)           #Taeyang2라는 클래스 사용, 인수 4,0\n",
        "\n",
        "print(b.div())              #b.div Taeyang2라는 클래스의 div함수 사용\n",
        "\n",
        "                            #Taeyang이라는 클래스의 div 함수가 Taeyang2에서 \n",
        "#매서드 오버라이딩(덮어쓰기)<------#선언한 div 함수의 변형으로 바뀌어서 결과값 출력\n",
        "\n",
        "#클래스 변수\n",
        "\n",
        "#객체 변수!= 클래스 변수\n",
        "#클래스 안에는 함수 뿐 아니라 변수도 온다.\n",
        "\n",
        "class Familly:\n",
        "  lastname = \"박\"\n",
        "\n",
        "print(Familly.lastname) #class 이름, class안의 변수\n",
        "                        #결과값: 박\n",
        "\n",
        "a = Familly()           #a라는 객체에 사용할 클래스 선언\n",
        "b = Familly()           #b라는 객체에 사용할 클래스 선언\n",
        "\n",
        "print(a.lastname)       #a는 이미 클래스 Familly사용가능. 그안의 lastname 호출\n",
        "\n",
        "print(b.lastname)       #b는 이미 클래스 Familly사용가능. 그안의 lastname 호출\n",
        "\n",
        "#!!클래스 변수는 주소를 공유, 클래스 안의 lastname이 \"김\"으로 바뀌면 다른 객체들의 값도 모두 변경\n",
        "\n",
        "print(id(a))            #a객체의 id와 \n",
        "print(id(b))            #b객체의 id는 다르다. \n",
        "print(id(a.lastname))   #a가 사용하는 lastname의 함수값과\n",
        "\n",
        "print(id(b.lastname))   #b가 사용하는 lastname의 함수값의 주소는 같다.\n",
        "\n",
        "\n",
        "\n",
        "\n",
        "\n",
        "\n",
        "\n",
        "\n",
        "\n",
        "\n",
        "\n"
      ],
      "metadata": {
        "colab": {
          "base_uri": "https://localhost:8080/"
        },
        "id": "MpCSKmuCWcid",
        "outputId": "e11d9885-bda4-4ad9-97d3-eea41c111ad9"
      },
      "execution_count": 11,
      "outputs": [
        {
          "output_type": "stream",
          "name": "stdout",
          "text": [
            "6\n",
            "0\n",
            "박\n",
            "박\n",
            "박\n",
            "139687271274064\n",
            "139687271275280\n",
            "139687270927376\n",
            "139687270927376\n"
          ]
        }
      ]
    },
    {
      "cell_type": "code",
      "source": [
        "#모듈 사용하기\n",
        "\n"
      ],
      "metadata": {
        "id": "OQy7DT9SlcOc"
      },
      "execution_count": null,
      "outputs": []
    }
  ]
}