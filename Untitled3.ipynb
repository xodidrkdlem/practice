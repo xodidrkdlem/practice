{
  "nbformat": 4,
  "nbformat_minor": 0,
  "metadata": {
    "colab": {
      "provenance": [],
      "authorship_tag": "ABX9TyPlUExZuWQdpOW13IQFsT8t",
      "include_colab_link": true
    },
    "kernelspec": {
      "name": "python3",
      "display_name": "Python 3"
    },
    "language_info": {
      "name": "python"
    }
  },
  "cells": [
    {
      "cell_type": "markdown",
      "metadata": {
        "id": "view-in-github",
        "colab_type": "text"
      },
      "source": [
        "<a href=\"https://colab.research.google.com/github/xodidrkdlem/practice/blob/main/Untitled3.ipynb\" target=\"_parent\"><img src=\"https://colab.research.google.com/assets/colab-badge.svg\" alt=\"Open In Colab\"/></a>"
      ]
    },
    {
      "cell_type": "code",
      "execution_count": null,
      "metadata": {
        "colab": {
          "base_uri": "https://localhost:8080/"
        },
        "id": "mSrlqpvbI2a-",
        "outputId": "6864c9bb-affc-426c-ba05-46ab29f26866"
      },
      "outputs": [
        {
          "output_type": "stream",
          "name": "stdout",
          "text": [
            "hi\n"
          ]
        }
      ],
      "source": [
        "def say():\n",
        "    return 'hi'\n",
        "\n",
        "a=  say()\n",
        "print(a)"
      ]
    },
    {
      "cell_type": "code",
      "source": [
        "def add(a,b):\n",
        "    print(\"%d, %d의 합은 %d입니다.\" %(a,b,a+b))\n",
        "\n",
        "add(3,4)"
      ],
      "metadata": {
        "colab": {
          "base_uri": "https://localhost:8080/"
        },
        "id": "bqHzrQXpLoCK",
        "outputId": "2d40c7c1-976c-4fd3-9537-cbc2f21e36ea"
      },
      "execution_count": null,
      "outputs": [
        {
          "output_type": "stream",
          "name": "stdout",
          "text": [
            "3, 4의 합은 7입니다.\n"
          ]
        }
      ]
    },
    {
      "cell_type": "code",
      "source": [
        "def add(a,b):\n",
        "    return a+b\n",
        "\n",
        "result  = add(a=3,b=7)\n",
        "print(result)"
      ],
      "metadata": {
        "colab": {
          "base_uri": "https://localhost:8080/"
        },
        "id": "P9cTKCrRMW6k",
        "outputId": "d9b4cfb0-c384-49c1-b7e2-7a4363323e14"
      },
      "execution_count": null,
      "outputs": [
        {
          "output_type": "stream",
          "name": "stdout",
          "text": [
            "10\n"
          ]
        }
      ]
    },
    {
      "cell_type": "code",
      "source": [
        "def addtaeyang(*ty):\n",
        "    result = 0\n",
        "    for i in ty:\n",
        "      result = result + i\n",
        "    return result\n",
        "\n",
        "result = addtaeyang(1,2,3)\n",
        "print(result)\n",
        "\n",
        "result = addtaeyang(1,2,3,4,5,6,7,8,9,10)\n",
        "print(result)"
      ],
      "metadata": {
        "colab": {
          "base_uri": "https://localhost:8080/"
        },
        "id": "9z-QiRnBMmVV",
        "outputId": "470e2a8d-889a-44b5-a69c-61b8dd67cd39"
      },
      "execution_count": null,
      "outputs": [
        {
          "output_type": "stream",
          "name": "stdout",
          "text": [
            "6\n",
            "55\n"
          ]
        }
      ]
    },
    {
      "cell_type": "code",
      "source": [
        "def taeyang(choice,*ty):\n",
        "    \n",
        "    if choice == \"add\":\n",
        "      result = 0\n",
        "      for i in ty:\n",
        "        result = result +i\n",
        "\n",
        "    elif choice == \"mul\":\n",
        "        result = 1\n",
        "        for i in ty:\n",
        "          result = result*i\n",
        "\n",
        "    return result\n",
        "\n",
        "\n",
        "result = taeyang('add',1,2,3)\n",
        "print(result)\n",
        "      \n",
        "result = taeyang('mul',1,2,3)\n",
        "print (result)"
      ],
      "metadata": {
        "colab": {
          "base_uri": "https://localhost:8080/"
        },
        "id": "qy0UJ4d0N7yU",
        "outputId": "d82526be-56c0-49cc-c79b-b1890e82778e"
      },
      "execution_count": null,
      "outputs": [
        {
          "output_type": "stream",
          "name": "stdout",
          "text": [
            "6\n",
            "6\n"
          ]
        }
      ]
    },
    {
      "cell_type": "code",
      "source": [
        "#함수, 입력,출력 없을수 있음\n",
        "def sum(a,b):\n",
        "    return a+b\n",
        "    \n",
        "a = sum(3,4)\n",
        "print (a)\n"
      ],
      "metadata": {
        "colab": {
          "base_uri": "https://localhost:8080/"
        },
        "id": "extgs5kzRjUr",
        "outputId": "7477c9e8-0201-404b-eecf-8ff3670e4b64"
      },
      "execution_count": null,
      "outputs": [
        {
          "output_type": "stream",
          "name": "stdout",
          "text": [
            "7\n"
          ]
        }
      ]
    },
    {
      "cell_type": "code",
      "source": [
        "def say():\n",
        "    return \"hi\"\n",
        "\n",
        "print(say())"
      ],
      "metadata": {
        "colab": {
          "base_uri": "https://localhost:8080/"
        },
        "id": "eqNdTzNdTXub",
        "outputId": "767c7305-b59c-4257-e5c2-2484453113d9"
      },
      "execution_count": null,
      "outputs": [
        {
          "output_type": "stream",
          "name": "stdout",
          "text": [
            "hi\n"
          ]
        }
      ]
    },
    {
      "cell_type": "code",
      "source": [
        "def add(a,b):\n",
        "    print(\"%d,%d의 합은 %d입니다.\" %(a,b,a+b))\n",
        "\n",
        "add(4,5)"
      ],
      "metadata": {
        "colab": {
          "base_uri": "https://localhost:8080/"
        },
        "id": "g87WIVUyT-U-",
        "outputId": "05f6648d-39e2-47d5-ab7c-7eca6e40dd49"
      },
      "execution_count": null,
      "outputs": [
        {
          "output_type": "stream",
          "name": "stdout",
          "text": [
            "4,5의 합은 9입니다.\n"
          ]
        }
      ]
    },
    {
      "cell_type": "code",
      "source": [
        "def sum(*taeyang):  #*붙이면 여러개의 매개변수를 나타내는 것\n",
        "    sum = 0\n",
        "    for i in taeyang:\n",
        "        sum = sum+i\n",
        "    return sum\n",
        "\n",
        "print(sum(1,2,3,4,5))"
      ],
      "metadata": {
        "colab": {
          "base_uri": "https://localhost:8080/"
        },
        "id": "tKjJpF9TU6qQ",
        "outputId": "40b58030-2578-44c0-d5e6-c18063b05ce4"
      },
      "execution_count": null,
      "outputs": [
        {
          "output_type": "stream",
          "name": "stdout",
          "text": [
            "15\n"
          ]
        }
      ]
    },
    {
      "cell_type": "code",
      "source": [
        "#중요 예제 return 값으로 여러개 올수 있고 모두 튜플로 정리 됨, 인덱싱을 활용해서 함수가 선언한 여러개의 값의 순서를 나타낼수있음.\n",
        "\n",
        "def sum(a,b):\n",
        "    return a+b,a*b, a-b\n",
        "\n",
        "print(sum(1,2)[1])\n"
      ],
      "metadata": {
        "colab": {
          "base_uri": "https://localhost:8080/"
        },
        "id": "fa0scrlhWiO1",
        "outputId": "8799af26-75e5-4255-9ed3-536ca6886f13"
      },
      "execution_count": null,
      "outputs": [
        {
          "output_type": "stream",
          "name": "stdout",
          "text": [
            "2\n"
          ]
        }
      ]
    },
    {
      "cell_type": "code",
      "source": [
        "def a(name,old, man = True):\n",
        "    print(\"나의 이름은 %s 입니다.\" %name)\n",
        "    print(\"나이는 %d 입니다.\" %old)\n",
        "    if man:\n",
        "        print (\"남자입니다.\")\n",
        "    else:\n",
        "        print(\"여자입니다.\")\n",
        "\n",
        "a(\"이진희\", 27,False)"
      ],
      "metadata": {
        "colab": {
          "base_uri": "https://localhost:8080/"
        },
        "id": "ij41WuvOYMa5",
        "outputId": "89c043e9-d931-4833-d343-a6cfb2573bcb"
      },
      "execution_count": null,
      "outputs": [
        {
          "output_type": "stream",
          "name": "stdout",
          "text": [
            "나의 이름은 이진희 입니다.\n",
            "나이는 27 입니다.\n",
            "여자입니다.\n"
          ]
        }
      ]
    },
    {
      "cell_type": "code",
      "source": [
        "a = 2\n",
        "def v():\n",
        "  global a\n",
        "  a = a+1\n",
        "\n",
        "v()\n",
        "print(a)"
      ],
      "metadata": {
        "colab": {
          "base_uri": "https://localhost:8080/"
        },
        "id": "O0w4FLFYfMOg",
        "outputId": "36a69962-2b4a-4482-fa80-d0dbc886f22b"
      },
      "execution_count": null,
      "outputs": [
        {
          "output_type": "stream",
          "name": "stdout",
          "text": [
            "3\n"
          ]
        }
      ]
    },
    {
      "cell_type": "code",
      "source": [
        "add = lambda a, b: a+ b\n",
        "result = add(3,4)\n",
        "\n",
        "print(result)\n"
      ],
      "metadata": {
        "colab": {
          "base_uri": "https://localhost:8080/"
        },
        "id": "gz6z7RxYhJAK",
        "outputId": "8dca16ef-afcd-45d4-b1be-b796c4d7179e"
      },
      "execution_count": null,
      "outputs": [
        {
          "output_type": "stream",
          "name": "stdout",
          "text": [
            "7\n"
          ]
        }
      ]
    },
    {
      "cell_type": "code",
      "source": [
        " #lambda 함수 리스트 형식\n",
        "\n",
        " mylist = [lambda a,b : a+b, lambda a,b : a*b]\n",
        "\n",
        "print(mylist[0](1,2))"
      ],
      "metadata": {
        "colab": {
          "base_uri": "https://localhost:8080/"
        },
        "id": "yX7Ftu5FiBMS",
        "outputId": "83f9bcda-5b34-4307-e2c8-3214b8041e02"
      },
      "execution_count": null,
      "outputs": [
        {
          "output_type": "stream",
          "name": "stdout",
          "text": [
            "3\n"
          ]
        }
      ]
    },
    {
      "cell_type": "code",
      "source": [
        "#사용자 입력과 출력\n",
        "number = input(\"숫자를 입력하세요 : \")\n",
        "\n",
        "print(number)"
      ],
      "metadata": {
        "colab": {
          "base_uri": "https://localhost:8080/"
        },
        "id": "zPYfiIaViysN",
        "outputId": "03e5b9cc-8579-4180-eb96-6d6e9c18e9a4"
      },
      "execution_count": null,
      "outputs": [
        {
          "output_type": "stream",
          "name": "stdout",
          "text": [
            "숫자를 입력하세요 : 14\n",
            "14\n"
          ]
        }
      ]
    },
    {
      "cell_type": "code",
      "source": [
        "for i in range(10):\n",
        "    print(i,end =' ')"
      ],
      "metadata": {
        "colab": {
          "base_uri": "https://localhost:8080/"
        },
        "id": "JGuJ_qeQp1UA",
        "outputId": "134e9eee-da02-4629-d2c1-c460ba151897"
      },
      "execution_count": null,
      "outputs": [
        {
          "output_type": "stream",
          "name": "stdout",
          "text": [
            "0 1 2 3 4 5 6 7 8 9 "
          ]
        }
      ]
    }
  ]
}